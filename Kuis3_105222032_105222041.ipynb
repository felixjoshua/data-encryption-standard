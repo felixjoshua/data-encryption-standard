{
 "cells": [
  {
   "cell_type": "code",
   "execution_count": 12,
   "id": "91372552-8f58-4da3-99c6-53010ef0a60d",
   "metadata": {},
   "outputs": [
    {
     "name": "stdin",
     "output_type": "stream",
     "text": [
      "Teks yang ingin dienkripsi:  testeste\n",
      "Input Key (8 karakter):  testeste\n"
     ]
    },
    {
     "name": "stdout",
     "output_type": "stream",
     "text": [
      "Hasil Enkripsi (base64): Osxk5HZaJEa63jGZ3U3UTw==\n"
     ]
    }
   ],
   "source": [
    "from Crypto.Cipher import DES\n",
    "from Crypto.Util.Padding import pad\n",
    "import base64\n",
    "\n",
    "def des_encrypt(plain_text, key):\n",
    "    if len(key) != 8:\n",
    "        raise ValueError(\"Key harus sepanjang 8 byte\")\n",
    "\n",
    "    cipher = DES.new(key.encode(), DES.MODE_ECB)\n",
    "    padded_text = pad(plain_text.encode(), DES.block_size)\n",
    "    encrypted_bytes = cipher.encrypt(padded_text)\n",
    "    encrypted_base64 = base64.b64encode(encrypted_bytes).decode()\n",
    "    return encrypted_base64\n",
    "\n",
    "# Input user\n",
    "try:\n",
    "    plaintext = input(\"Teks yang ingin dienkripsi: \")\n",
    "    key = input(\"Input Key (8 karakter): \")\n",
    "\n",
    "    encrypted = des_encrypt(plaintext, key)\n",
    "    print(\"Hasil Enkripsi (base64):\", encrypted)\n",
    "\n",
    "except ValueError as ve:\n",
    "    print(\"Error:\", ve)"
   ]
  },
  {
   "cell_type": "code",
   "execution_count": null,
   "id": "73ed9589-4386-467a-8d84-21bb0c7bb47e",
   "metadata": {},
   "outputs": [],
   "source": []
  }
 ],
 "metadata": {
  "kernelspec": {
   "display_name": "Python 3 (ipykernel)",
   "language": "python",
   "name": "python3"
  },
  "language_info": {
   "codemirror_mode": {
    "name": "ipython",
    "version": 3
   },
   "file_extension": ".py",
   "mimetype": "text/x-python",
   "name": "python",
   "nbconvert_exporter": "python",
   "pygments_lexer": "ipython3",
   "version": "3.12.3"
  }
 },
 "nbformat": 4,
 "nbformat_minor": 5
}
